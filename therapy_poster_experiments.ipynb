{
 "cells": [
  {
   "cell_type": "code",
   "execution_count": 1,
   "id": "d16876ad-b866-4cdc-be98-64f15201c0bb",
   "metadata": {},
   "outputs": [],
   "source": [
    "import asyncio"
   ]
  },
  {
   "cell_type": "markdown",
   "id": "dfa287ad-8423-44ef-bc08-a89d5c9378ee",
   "metadata": {},
   "source": [
    "### CIViC data exploration\n",
    "\n",
    "Perform basic crawl through CIViC drug items to see if TheraPy considers any of them to be redundant"
   ]
  },
  {
   "cell_type": "code",
   "execution_count": 2,
   "id": "1d801dd6-197f-4849-917f-d083bfdf4391",
   "metadata": {},
   "outputs": [],
   "source": [
    "from gql import gql, Client\n",
    "from gql.transport.aiohttp import AIOHTTPTransport\n",
    "transport = AIOHTTPTransport(url=\"https://civicdb.org/api/graphql\")\n",
    "client = Client(transport=transport, fetch_schema_from_transport=True)\n",
    "\n",
    "query = gql(\n",
    "    \"\"\"\n",
    "query getAllDrugs($cursor: String!) {\n",
    "  drugs(first: 50, after: $cursor) {\n",
    "    edges {\n",
    "      cursor,\n",
    "      node {\n",
    "        id,\n",
    "        name,\n",
    "        ncitId\n",
    "      }\n",
    "    }\n",
    "  }\n",
    "}\n",
    "\"\"\"\n",
    ")"
   ]
  },
  {
   "cell_type": "code",
   "execution_count": 3,
   "id": "200a46fd-f86a-4f9f-a6c9-dd8d6221c26c",
   "metadata": {},
   "outputs": [],
   "source": [
    "async def explore_civic():\n",
    "    drugs = set()\n",
    "    params = {\"cursor\": \"\"}\n",
    "    async with Client(\n",
    "        transport=transport,\n",
    "        fetch_schema_from_transport=True,\n",
    "    ) as session:\n",
    "        while True:\n",
    "            result = await session.execute(query, variable_values=params)\n",
    "            for drug in result[\"drugs\"][\"edges\"]:\n",
    "                drugs.add(drug[\"node\"][\"name\"])\n",
    "            if len(result[\"drugs\"][\"edges\"]) == 0:\n",
    "                break\n",
    "            params[\"cursor\"] = result[\"drugs\"][\"edges\"][-1][\"cursor\"]\n",
    "    return drugs\n",
    "            \n",
    "drugs = await explore_civic()"
   ]
  },
  {
   "cell_type": "code",
   "execution_count": 4,
   "id": "83f17544-7ff4-4b0c-958e-9e1fe42c1a7b",
   "metadata": {},
   "outputs": [
    {
     "name": "stdout",
     "output_type": "stream",
     "text": [
      "***Using Therapy Database Endpoint: http://localhost:8000***\n"
     ]
    },
    {
     "name": "stderr",
     "output_type": "stream",
     "text": [
      "/Users/jss009/code/cgc-2022-therapy/venv/lib/python3.9/site-packages/tqdm/auto.py:22: TqdmWarning: IProgress not found. Please update jupyter and ipywidgets. See https://ipywidgets.readthedocs.io/en/stable/user_install.html\n",
      "  from .autonotebook import tqdm as notebook_tqdm\n",
      "* Owlready2 * Warning: optimized Cython parser module 'owlready2_optimized' is not available, defaulting to slower Python implementation\n"
     ]
    }
   ],
   "source": [
    "from therapy.query import QueryHandler\n",
    "q = QueryHandler()"
   ]
  },
  {
   "cell_type": "code",
   "execution_count": 5,
   "id": "16e42836-cd8d-4f69-be33-20cc463583d7",
   "metadata": {},
   "outputs": [
    {
     "name": "stdout",
     "output_type": "stream",
     "text": [
      "normalized under rxcui:282388:\n",
      "Imatinib Mesylate\n",
      "Imatinib\n",
      "\n",
      "normalized under rxcui:1100071:\n",
      "Abiraterone Acetate\n",
      "Abiraterone\n",
      "\n"
     ]
    }
   ],
   "source": [
    "normalized_drugs = {}\n",
    "for drug in drugs:\n",
    "    try:\n",
    "        therapy_id = q.normalize(drug).therapy_descriptor.therapy_id\n",
    "    except AttributeError as e:\n",
    "        continue\n",
    "    if therapy_id in normalized_drugs:\n",
    "        print(f\"normalized under {therapy_id}:\")\n",
    "        print(normalized_drugs[therapy_id])\n",
    "        print(drug)\n",
    "        print()\n",
    "    else:\n",
    "        normalized_drugs[therapy_id] = drug"
   ]
  },
  {
   "cell_type": "markdown",
   "id": "73c5920b-766e-41b9-8e49-025e01412010",
   "metadata": {},
   "source": [
    "## Normalization of external knowledgebases"
   ]
  },
  {
   "cell_type": "markdown",
   "id": "0f486cb6-ce16-4305-96ff-00c22a155a8e",
   "metadata": {},
   "source": [
    "### GDSC"
   ]
  },
  {
   "cell_type": "code",
   "execution_count": 6,
   "id": "663960ae-8ab8-48c4-811d-af7d57f0f71e",
   "metadata": {},
   "outputs": [],
   "source": [
    "import csv\n",
    "\n",
    "# use the \"csv\" link for export -- not the \"download\" button\n",
    "# downloaded 2022/07/09\n",
    "# https://www.cancerrxgene.org/downloads/drug_data?screening_set=GDSC1\n",
    "gdsc_1_drugs = csv.DictReader(open(\"gdsc-drugs-1.csv\", \"r\"))  \n",
    "gdsc_2_drugs = csv.DictReader(open(\"gdsc-drugs-2.csv\", \"r\"))\n",
    "\n",
    "normalized_dict = {}\n",
    "\n",
    "total_compounds = 0\n",
    "normalized_compounds = 0\n",
    "for dataset in (gdsc_1_drugs, gdsc_2_drugs):\n",
    "    for row in dataset:\n",
    "        total_compounds += 1\n",
    "        normalized = False\n",
    "        if q.normalize(row[\"drug_name\"]).match_type > 0:\n",
    "            normalized = True\n",
    "        for synonym in row[\"synonyms\"].split(\",\"):\n",
    "            if q.normalize(synonym).match_type > 0:\n",
    "                normalized = True\n",
    "        if normalized:\n",
    "            normalized_compounds += 1\n",
    "            normalized_dict[int(row[\"drug_id\"])] = True\n",
    "        else:\n",
    "            normalized_dict[int(row[\"drug_id\"])] = False\n",
    "\n",
    "gdsc_normalization_rate = normalized_compounds / total_compounds"
   ]
  },
  {
   "cell_type": "markdown",
   "id": "242adb90-38df-4918-aa0d-62e8914659fa",
   "metadata": {},
   "source": [
    "### CIViC"
   ]
  },
  {
   "cell_type": "code",
   "execution_count": 7,
   "id": "cd715d68-34dc-4e24-bf9f-c333d74ee88a",
   "metadata": {},
   "outputs": [],
   "source": [
    "from civicpy import civic\n",
    "\n",
    "civic.load_cache(on_stale='ignore')\n",
    "civic_evidence = civic.get_all_evidence()\n",
    "\n",
    "ev_total = 0\n",
    "normalized_ev_total = 0\n",
    "\n",
    "for ev in civic_evidence:\n",
    "    ev_dict = vars(ev)\n",
    "    drugs = ev_dict.get(\"drugs\")\n",
    "    if not drugs:\n",
    "        continue\n",
    "    ev_total += 1\n",
    "    ev_normalized = True\n",
    "    for drug in drugs:\n",
    "        drug_normalized = False\n",
    "        term_list_raw = [\n",
    "            drug.name,\n",
    "            drug.ncit_id\n",
    "        ] + drug.aliases\n",
    "        terms = [t for t in term_list_raw if t]\n",
    "        for term in terms:\n",
    "            if q.normalize(term).match_type > 0:\n",
    "                drug_normalized = True\n",
    "                break\n",
    "        if not drug_normalized:\n",
    "            ev_normalized = False\n",
    "    if ev_normalized:\n",
    "        normalized_ev_total += 1\n",
    "        \n",
    "civic_normalization_rate = normalized_ev_total / ev_total"
   ]
  },
  {
   "cell_type": "markdown",
   "id": "ce1ef23a-195d-488b-93cd-a8574d2c5d9e",
   "metadata": {},
   "source": [
    "### PharmGKB"
   ]
  },
  {
   "cell_type": "code",
   "execution_count": 8,
   "id": "5c5495df-7ac7-41b9-9bc9-f5d2c49cc5c8",
   "metadata": {},
   "outputs": [],
   "source": [
    "clinical_annotations = {}\n",
    "# https://www.pharmgkb.org/downloads\n",
    "reader = csv.DictReader(open(\"clinical_annotations.tsv\", \"r\"), delimiter=\"\\t\")\n",
    "\n",
    "total_ann = 0\n",
    "normalized_ann = 0\n",
    "for row in reader:\n",
    "    drugs = row[\"Drug(s)\"].split(\";\")\n",
    "    if drugs:\n",
    "        total_ann += 1\n",
    "        normalized = True\n",
    "        for drug in drugs:\n",
    "            if q.normalize(drug).match_type == 0:\n",
    "                normalized = False\n",
    "        if normalized:\n",
    "            normalized_ann += 1\n",
    "            \n",
    "pharmgkb_normalization_rate = normalized_ann / total_ann"
   ]
  },
  {
   "cell_type": "markdown",
   "id": "67e54a96-afb4-4773-8016-f1ed4fd2c206",
   "metadata": {},
   "source": [
    "### Molecular Oncology Almanac"
   ]
  },
  {
   "cell_type": "code",
   "execution_count": 9,
   "id": "a05b400c-bcb1-4293-a179-02489ec60531",
   "metadata": {},
   "outputs": [],
   "source": [
    "import requests\n",
    "\n",
    "r = requests.get('https://moalmanac.org/api/assertions')\n",
    "assertions = r.json()\n",
    "\n",
    "total_assertions = 0\n",
    "normalized_assertions = 0\n",
    "for assertion in assertions:\n",
    "    name = assertion['therapy_name']\n",
    "    if not name:\n",
    "        continue\n",
    "    total_assertions += 1\n",
    "    if q.normalize(name).match_type > 0:\n",
    "        normalized_assertions += 1\n",
    "\n",
    "moa_normalization_rate = normalized_assertions / total_assertions"
   ]
  },
  {
   "cell_type": "markdown",
   "id": "2933cecd-1c95-4a11-861f-4db1262fab4e",
   "metadata": {},
   "source": [
    "### Generate figure"
   ]
  },
  {
   "cell_type": "code",
   "execution_count": 12,
   "id": "149f929f-6e99-42b5-9f3f-eae5e0df2f31",
   "metadata": {},
   "outputs": [
    {
     "data": {
      "image/png": "[encoded data removed]",
      "text/plain": [
       "<Figure size 432x288 with 1 Axes>"
      ]
     },
     "metadata": {
      "needs_background": "light"
     },
     "output_type": "display_data"
    }
   ],
   "source": [
    "import pandas as pd\n",
    "\n",
    "norm_results = pd.DataFrame(\n",
    "    [civic_normalization_rate, moa_normalization_rate, gdsc_normalization_rate, pharmgkb_normalization_rate], \n",
    "    index=[\"CIViC\", \"MOAlmanac\", \"GDSC\", \"PharmGKB\"],\n",
    "    columns=[\"Normalization Rate\"]\n",
    ")\n",
    "\n",
    "import seaborn as sns\n",
    "sns.reset_orig()\n",
    "sns.set_theme(style=\"whitegrid\")\n",
    "ax = sns.barplot(x=norm_results.index, y=\"Normalization Rate\", data=norm_results)\n",
    "ax.figure.savefig('output_figure.png',dpi=600)"
   ]
  },
  {
   "cell_type": "code",
   "execution_count": null,
   "id": "f2ce7b45-6133-4880-a0ca-8e02aa626c02",
   "metadata": {},
   "outputs": [],
   "source": []
  }
 ],
 "metadata": {
  "kernelspec": {
   "display_name": "cgc2022",
   "language": "python",
   "name": "cgc2022"
  },
  "language_info": {
   "codemirror_mode": {
    "name": "ipython",
    "version": 3
   },
   "file_extension": ".py",
   "mimetype": "text/x-python",
   "name": "python",
   "nbconvert_exporter": "python",
   "pygments_lexer": "ipython3",
   "version": "3.9.13"
  }
 },
 "nbformat": 4,
 "nbformat_minor": 5
}
